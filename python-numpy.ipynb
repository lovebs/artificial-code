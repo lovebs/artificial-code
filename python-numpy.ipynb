{
 "cells": [
  {
   "cell_type": "code",
   "execution_count": null,
   "metadata": {},
   "outputs": [],
   "source": [
    "import numpy as np\n",
    "a=np.arange(10)\n",
    "print(a)\n",
    "type(a)\n",
    "a.shape\n",
    "a.shape[0]\n",
    "\n",
    "a=np.arange(10.0)\n",
    "print(a)\n",
    "type(a)\n",
    "a.shape\n",
    "a.shape[0]"
   ]
  },
  {
   "cell_type": "markdown",
   "metadata": {},
   "source": [
    "arange创建数组"
   ]
  },
  {
   "cell_type": "code",
   "execution_count": null,
   "metadata": {},
   "outputs": [],
   "source": [
    "arr = np.array([1,2,3,4,5],ndmin=3)\n",
    "print(arr)\n",
    "arr = np.array([1,2,3,4,5],dtype=complex)\n",
    "print(arr)\n",
    "arr = np.array([1,2,3,4,5],dtype=float)\n",
    "print(arr)"
   ]
  },
  {
   "cell_type": "markdown",
   "metadata": {},
   "source": [
    "array创建数组，可指定类型，维度等"
   ]
  },
  {
   "cell_type": "code",
   "execution_count": null,
   "metadata": {},
   "outputs": [],
   "source": [
    "arr = np.random.random(size=10)\n",
    "print(arr)\n",
    "arr = np.random.random(size=[5,3])\n",
    "print(arr)\n",
    "arr = np.random.randint(10,size=10)\n",
    "print(arr)\n",
    "arr = np.random.randint(5,10,size=10)\n",
    "print(arr)\n",
    "arr = np.random.randint(10,size=[5,3])\n",
    "print(arr)\n",
    "np.random.randn(3,4,2)"
   ]
  },
  {
   "cell_type": "markdown",
   "metadata": {},
   "source": [
    "关于random的用法：randint生成整数，randn生成正态分布的随机数"
   ]
  },
  {
   "cell_type": "code",
   "execution_count": null,
   "metadata": {},
   "outputs": [],
   "source": [
    "np.random.seed(666)\n",
    "np.random.randn(5)"
   ]
  },
  {
   "cell_type": "markdown",
   "metadata": {},
   "source": [
    "seed可指定随机数的初始种子,使得随机数以此为基础生成"
   ]
  },
  {
   "cell_type": "code",
   "execution_count": null,
   "metadata": {},
   "outputs": [],
   "source": [
    "arr = np.array([1,2,3,4,5])\n",
    "print(arr)\n",
    "np.random.shuffle(arr)\n",
    "print(arr)"
   ]
  },
  {
   "cell_type": "markdown",
   "metadata": {},
   "source": [
    "shuffle可打乱ndarray型数据"
   ]
  },
  {
   "cell_type": "code",
   "execution_count": null,
   "metadata": {},
   "outputs": [],
   "source": [
    "arr = np.array([1,2,3,4,5])\n",
    "print(arr.dtype,\n",
    "arr.ndim,\n",
    "arr.shape,\n",
    "arr.size)"
   ]
  },
  {
   "cell_type": "markdown",
   "metadata": {},
   "source": [
    "ndarray型数据的一些属性查看方法"
   ]
  },
  {
   "cell_type": "code",
   "execution_count": null,
   "metadata": {},
   "outputs": [],
   "source": [
    "print(np.zeros((2,3)))\n",
    "print(np.ones((2,3)))\n",
    "print(np.empty((2,3)))\n",
    "np.zeros_like"
   ]
  },
  {
   "cell_type": "markdown",
   "metadata": {},
   "source": [
    "生成ndarray型数据其它的方法(还有np.zeros_like,np.ones_like,np.empty_like等方法)"
   ]
  },
  {
   "cell_type": "code",
   "execution_count": null,
   "metadata": {},
   "outputs": [],
   "source": [
    "arr = np.arange(12)\n",
    "arr = arr.reshape(3,4)\n",
    "print(arr)\n",
    "print(arr[1])\n",
    "print(arr[1][3])\n",
    "print(arr[1:4,1:3])"
   ]
  },
  {
   "cell_type": "markdown",
   "metadata": {},
   "source": [
    "ndarray型数据的切片方法"
   ]
  },
  {
   "cell_type": "code",
   "execution_count": null,
   "metadata": {},
   "outputs": [],
   "source": [
    "arr = np.arange(12)\n",
    "arr = arr.reshape(3,4)\n",
    "temp = np.copy(arr[1:3,1:3])\n",
    "print(temp)\n",
    "print(arr)\n",
    "temp[1][1] = 9\n",
    "print(temp)\n",
    "print(arr)\n",
    "temp = arr[1:3,1:3]\n",
    "temp[1][1] = 9\n",
    "print(temp)\n",
    "print(arr)"
   ]
  },
  {
   "cell_type": "markdown",
   "metadata": {},
   "source": [
    "使用copy函数可以将原来ndarray型数据部分进行复制，更改数据是不会对原数据有影响的，而直接指定却会关联二者"
   ]
  },
  {
   "cell_type": "code",
   "execution_count": null,
   "metadata": {},
   "outputs": [],
   "source": [
    "arr = arr.reshape(2,3,2)\n",
    "print(arr)\n",
    "print(arr.ravel())\n",
    "print(arr.flatten())"
   ]
  },
  {
   "cell_type": "markdown",
   "metadata": {},
   "source": [
    "使用ravel,flatten可以将多维ndarry型数据转化为一维"
   ]
  },
  {
   "cell_type": "code",
   "execution_count": null,
   "metadata": {},
   "outputs": [],
   "source": [
    "a = np.array([[1,2,3],[4,5,6]])\n",
    "a\n",
    "b = np.array([['a','b','c'],['d','e','f']])\n",
    "b\n",
    "print(np.hstack([a,b]))\n",
    "print(np.vstack([a,b]))\n",
    "print(np.concatenate([a,b],axis=0))\n",
    "print(np.concatenate([a,b],axis=1))"
   ]
  },
  {
   "cell_type": "markdown",
   "metadata": {},
   "source": [
    "ndarray型数据拼接方法hstack和vstack都相当于concatenate方法中axis取值为0和1时的情况，此类方法运用时要保证数据格式严格一致"
   ]
  },
  {
   "cell_type": "code",
   "execution_count": null,
   "metadata": {},
   "outputs": [],
   "source": [
    "arr = np.arange(12)\n",
    "print(arr)\n",
    "print(np.split(arr,4))\n",
    "print(np.split(arr,[3,5]))\n",
    "arr = arr.reshape(3,4)\n",
    "np.transpose(arr)\n"
   ]
  },
  {
   "cell_type": "markdown",
   "metadata": {},
   "source": [
    "split方法[]中逗号左侧右数字代表断点，按照此格式可分割数据，设定axis的值为0或1可按方向分割数据，transpose方法可以对多维数据进行转置"
   ]
  },
  {
   "cell_type": "code",
   "execution_count": null,
   "metadata": {},
   "outputs": [],
   "source": [
    "a = np.arange(9).reshape(3,3)\n",
    "print(a)\n",
    "b = np.arange(9).reshape(3,3)\n",
    "print(b)\n",
    "print(np.add(a,b),\n",
    "np.subtract(a,b))\n",
    "print(np.floor(5.5),\n",
    "np.ceil(5.5))"
   ]
  },
  {
   "cell_type": "markdown",
   "metadata": {},
   "source": [
    "array型数据可以进行运算，多维数据要保持格式的一致,floor向下取整，ceil向上取整"
   ]
  },
  {
   "cell_type": "code",
   "execution_count": null,
   "metadata": {},
   "outputs": [],
   "source": [
    "temp = np.array([1,2,3,5,5])\n",
    "print(temp)\n",
    "print(np.sum(temp),\n",
    "np.prod(temp),\n",
    "np.mean(temp),\n",
    "np.var(temp),\n",
    "np.std(temp))"
   ]
  },
  {
   "cell_type": "markdown",
   "metadata": {},
   "source": [
    "numpy中对于array型数据还有许多运算方法，做和，乘法，平均值，方差，标准差等。"
   ]
  }
 ],
 "metadata": {
  "kernelspec": {
   "display_name": "Python 3",
   "language": "python",
   "name": "python3"
  },
  "language_info": {
   "codemirror_mode": {
    "name": "ipython",
    "version": 3
   },
   "file_extension": ".py",
   "mimetype": "text/x-python",
   "name": "python",
   "nbconvert_exporter": "python",
   "pygments_lexer": "ipython3",
   "version": "3.8.2"
  }
 },
 "nbformat": 4,
 "nbformat_minor": 2
}
